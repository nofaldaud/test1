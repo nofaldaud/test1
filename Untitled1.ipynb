{
 "cells": [
  {
   "cell_type": "markdown",
   "metadata": {},
   "source": [
    "# Importing necessary libraries "
   ]
  },
  {
   "cell_type": "code",
   "execution_count": 161,
   "metadata": {},
   "outputs": [],
   "source": [
    "import requests\n",
    "import datetime\n",
    "import pandas as pd\n",
    "from scipy import stats\n",
    "import matplotlib.pyplot as plt\n",
    "from sklearn.model_selection import TimeSeriesSplit\n",
    "from sklearn.model_selection import GridSearchCV\n",
    "from sklearn.preprocessing import StandardScaler\n",
    "from sklearn.ensemble import ExtraTreesClassifier\n",
    "from sklearn.ensemble import AdaBoostClassifier\n",
    "from sklearn.base import BaseEstimator\n",
    "from sklearn.svm import SVC\n",
    "from sklearn.metrics import classification_report, f1_score\n"
   ]
  },
  {
   "cell_type": "markdown",
   "metadata": {},
   "source": [
    "# Fetching Bitcoin historical price data from cryptocompare API"
   ]
  },
  {
   "cell_type": "code",
   "execution_count": 162,
   "metadata": {},
   "outputs": [
    {
     "name": "stdout",
     "output_type": "stream",
     "text": [
      "Max length = 2001\n",
      "Max time = 83 days 09:00:00\n"
     ]
    },
    {
     "data": {
      "image/png": "[encoded data removed]",
      "text/plain": [
       "<matplotlib.figure.Figure at 0x1ff27fab4a8>"
      ]
     },
     "metadata": {},
     "output_type": "display_data"
    }
   ],
   "source": [
    "def hourly_price_historical(symbol, comparison_symbol, limit, aggregate, exchange=''):\n",
    "    url = 'https://min-api.cryptocompare.com/data/histohour?fsym={}&tsym={}&limit={}&aggregate={}'\\\n",
    "            .format(symbol.upper(), comparison_symbol.upper(), limit, aggregate)\n",
    "    if exchange:\n",
    "        url += '&e={}'.format(exchange)\n",
    "    page = requests.get(url)\n",
    "    data = page.json()['Data']\n",
    "    df = pd.DataFrame(data)\n",
    "    df.index = [datetime.datetime.fromtimestamp(d) for d in df.time]\n",
    "    return df\n",
    "time_delta = 1 # Bar width in hours\n",
    "df = hourly_price_historical('BTC', 'USD', 2001, time_delta)\n",
    "print('Max length = %s' % len(df))\n",
    "print('Max time = %s' % (df.index.max() - df.index.min()))\n",
    "\n",
    "plt.plot(df.index, df.close)\n",
    "plt.xticks(rotation=45)\n",
    "plt.show()"
   ]
  },
  {
   "cell_type": "code",
   "execution_count": 163,
   "metadata": {},
   "outputs": [],
   "source": [
    "#adding the avg of opening and closing price as feature\n",
    "df['avg']=(df['high']+df['low'])/2\n",
    "#adding the difference of opening and closing price as feature\n",
    "df['diff']=df['close']-df['open']\n",
    "#defining the dependent/target variable and setting it to zero\n",
    "df['price_indicator']=0"
   ]
  },
  {
   "cell_type": "code",
   "execution_count": 164,
   "metadata": {},
   "outputs": [
    {
     "data": {
      "text/html": [
       "<div>\n",
       "<style scoped>\n",
       "    .dataframe tbody tr th:only-of-type {\n",
       "        vertical-align: middle;\n",
       "    }\n",
       "\n",
       "    .dataframe tbody tr th {\n",
       "        vertical-align: top;\n",
       "    }\n",
       "\n",
       "    .dataframe thead th {\n",
       "        text-align: right;\n",
       "    }\n",
       "</style>\n",
       "<table border=\"1\" class=\"dataframe\">\n",
       "  <thead>\n",
       "    <tr style=\"text-align: right;\">\n",
       "      <th></th>\n",
       "      <th>close</th>\n",
       "      <th>high</th>\n",
       "      <th>low</th>\n",
       "      <th>open</th>\n",
       "      <th>time</th>\n",
       "      <th>volumefrom</th>\n",
       "      <th>volumeto</th>\n",
       "      <th>avg</th>\n",
       "      <th>diff</th>\n",
       "      <th>price_indicator</th>\n",
       "    </tr>\n",
       "  </thead>\n",
       "  <tbody>\n",
       "    <tr>\n",
       "      <th>2018-03-18 14:00:00</th>\n",
       "      <td>7626.12</td>\n",
       "      <td>7750.34</td>\n",
       "      <td>7563.85</td>\n",
       "      <td>7730.86</td>\n",
       "      <td>1521378000</td>\n",
       "      <td>7939.25</td>\n",
       "      <td>6.073443e+07</td>\n",
       "      <td>7657.095</td>\n",
       "      <td>-104.74</td>\n",
       "      <td>0</td>\n",
       "    </tr>\n",
       "    <tr>\n",
       "      <th>2018-03-18 15:00:00</th>\n",
       "      <td>7503.68</td>\n",
       "      <td>7637.98</td>\n",
       "      <td>7318.46</td>\n",
       "      <td>7626.12</td>\n",
       "      <td>1521381600</td>\n",
       "      <td>22883.04</td>\n",
       "      <td>1.705829e+08</td>\n",
       "      <td>7478.220</td>\n",
       "      <td>-122.44</td>\n",
       "      <td>0</td>\n",
       "    </tr>\n",
       "    <tr>\n",
       "      <th>2018-03-18 16:00:00</th>\n",
       "      <td>7406.92</td>\n",
       "      <td>7512.92</td>\n",
       "      <td>7392.44</td>\n",
       "      <td>7503.68</td>\n",
       "      <td>1521385200</td>\n",
       "      <td>9362.07</td>\n",
       "      <td>6.985828e+07</td>\n",
       "      <td>7452.680</td>\n",
       "      <td>-96.76</td>\n",
       "      <td>0</td>\n",
       "    </tr>\n",
       "    <tr>\n",
       "      <th>2018-03-18 17:00:00</th>\n",
       "      <td>7398.89</td>\n",
       "      <td>7468.20</td>\n",
       "      <td>7354.80</td>\n",
       "      <td>7406.34</td>\n",
       "      <td>1521388800</td>\n",
       "      <td>10345.26</td>\n",
       "      <td>7.685723e+07</td>\n",
       "      <td>7411.500</td>\n",
       "      <td>-7.45</td>\n",
       "      <td>0</td>\n",
       "    </tr>\n",
       "    <tr>\n",
       "      <th>2018-03-18 18:00:00</th>\n",
       "      <td>7507.35</td>\n",
       "      <td>7532.42</td>\n",
       "      <td>7355.56</td>\n",
       "      <td>7398.89</td>\n",
       "      <td>1521392400</td>\n",
       "      <td>7140.23</td>\n",
       "      <td>5.347394e+07</td>\n",
       "      <td>7443.990</td>\n",
       "      <td>108.46</td>\n",
       "      <td>1</td>\n",
       "    </tr>\n",
       "  </tbody>\n",
       "</table>\n",
       "</div>"
      ],
      "text/plain": [
       "                       close     high      low     open        time  \\\n",
       "2018-03-18 14:00:00  7626.12  7750.34  7563.85  7730.86  1521378000   \n",
       "2018-03-18 15:00:00  7503.68  7637.98  7318.46  7626.12  1521381600   \n",
       "2018-03-18 16:00:00  7406.92  7512.92  7392.44  7503.68  1521385200   \n",
       "2018-03-18 17:00:00  7398.89  7468.20  7354.80  7406.34  1521388800   \n",
       "2018-03-18 18:00:00  7507.35  7532.42  7355.56  7398.89  1521392400   \n",
       "\n",
       "                     volumefrom      volumeto       avg    diff  \\\n",
       "2018-03-18 14:00:00     7939.25  6.073443e+07  7657.095 -104.74   \n",
       "2018-03-18 15:00:00    22883.04  1.705829e+08  7478.220 -122.44   \n",
       "2018-03-18 16:00:00     9362.07  6.985828e+07  7452.680  -96.76   \n",
       "2018-03-18 17:00:00    10345.26  7.685723e+07  7411.500   -7.45   \n",
       "2018-03-18 18:00:00     7140.23  5.347394e+07  7443.990  108.46   \n",
       "\n",
       "                     price_indicator  \n",
       "2018-03-18 14:00:00                0  \n",
       "2018-03-18 15:00:00                0  \n",
       "2018-03-18 16:00:00                0  \n",
       "2018-03-18 17:00:00                0  \n",
       "2018-03-18 18:00:00                1  "
      ]
     },
     "execution_count": 164,
     "metadata": {},
     "output_type": "execute_result"
    }
   ],
   "source": [
    "#setting the values of dependent/target variable 0 if price declined and 1 if price increased\n",
    "for i in df.index:\n",
    "    if((df.loc[i,'close']-df.loc[i,'open'])>0):\n",
    "        df.loc[i,'price_indicator']=1\n",
    "df.head()"
   ]
  },
  {
   "cell_type": "code",
   "execution_count": 165,
   "metadata": {},
   "outputs": [],
   "source": [
    "X = df[['close','open','high','low','volumefrom','volumeto','avg','diff']]\n",
    "X = X.shift(periods=-1)\n",
    "X = X.dropna()"
   ]
  },
  {
   "cell_type": "code",
   "execution_count": 166,
   "metadata": {},
   "outputs": [],
   "source": [
    "lags=[1,3,5,7]\n",
    "for i in lags:\n",
    "        X['Lag' + str(i)] = X['close'].shift(periods=int(-i))\n",
    "X=X.dropna()"
   ]
  },
  {
   "cell_type": "code",
   "execution_count": 167,
   "metadata": {},
   "outputs": [
    {
     "data": {
      "text/plain": [
       "StandardScaler(copy=True, with_mean=True, with_std=True)"
      ]
     },
     "execution_count": 167,
     "metadata": {},
     "output_type": "execute_result"
    }
   ],
   "source": [
    "y = df['price_indicator']\n",
    "X_train = X.head(1800)\n",
    "Y_train = y.head(1800)\n",
    "X_test = X.tail(201)\n",
    "Y_test = y.tail(201)\n",
    "\n",
    "Xscaler = StandardScaler()\n",
    "Xscaler.fit(X_train)"
   ]
  },
  {
   "cell_type": "code",
   "execution_count": 168,
   "metadata": {},
   "outputs": [
    {
     "name": "stdout",
     "output_type": "stream",
     "text": [
      "{'C': 1000, 'gamma': 0.0001, 'kernel': 'rbf'}\n"
     ]
    }
   ],
   "source": [
    "clf=SVC()\n",
    "param_grid = [\n",
    "  {'C': [1, 10, 100, 1000], 'kernel': ['linear']},\n",
    "  {'C': [1, 10, 100, 1000], 'gamma': [0.001, 0.0001], 'kernel': ['rbf']},\n",
    "  {'C': [1, 10, 100, 1000], 'gamma': [0.001, 0.0001], 'degree':[5,10,15],'kernel': ['poly']}\n",
    " ]\n",
    "grid_search = GridSearchCV(clf, param_grid, scoring=\"recall\",\n",
    "                           cv=TimeSeriesSplit(n_splits=2, max_train_size=int(0.8*len(X_train))))\n",
    "grid_search.fit(Xscaler.transform(X_train),Y_train)\n",
    "print(grid_search.best_params_)"
   ]
  },
  {
   "cell_type": "code",
   "execution_count": 169,
   "metadata": {},
   "outputs": [
    {
     "name": "stdout",
     "output_type": "stream",
     "text": [
      "0.8534760113910568\n"
     ]
    }
   ],
   "source": [
    "X_test=X_test.dropna()\n",
    "print(grid_search.best_score_)"
   ]
  },
  {
   "cell_type": "code",
   "execution_count": 170,
   "metadata": {},
   "outputs": [
    {
     "data": {
      "text/plain": [
       "SVC(C=1000, cache_size=200, class_weight=None, coef0=0.0,\n",
       "  decision_function_shape='ovr', degree=3, gamma=0.0001, kernel='rbf',\n",
       "  max_iter=-1, probability=False, random_state=None, shrinking=True,\n",
       "  tol=0.001, verbose=False)"
      ]
     },
     "execution_count": 170,
     "metadata": {},
     "output_type": "execute_result"
    }
   ],
   "source": [
    "regularized_model = grid_search.best_estimator_\n",
    "regularized_model"
   ]
  },
  {
   "cell_type": "code",
   "execution_count": 171,
   "metadata": {},
   "outputs": [
    {
     "name": "stdout",
     "output_type": "stream",
     "text": [
      "             precision    recall  f1-score   support\n",
      "\n",
      "    class 0       0.51      0.36      0.42       101\n",
      "    class 1       0.50      0.66      0.57       100\n",
      "\n",
      "avg / total       0.51      0.51      0.50       201\n",
      "\n"
     ]
    }
   ],
   "source": [
    "best_params = grid_search.best_params_\n",
    "\n",
    "Y_pred=regularized_model.predict(Xscaler.transform(X_test))\n",
    "Y_test=Y_test.head(len(X_test))\n",
    "target_names = ['class 0', 'class 1']\n",
    "print(classification_report(Y_test, Y_pred, target_names=target_names))"
   ]
  }
 ],
 "metadata": {
  "kernelspec": {
   "display_name": "Python 3",
   "language": "python",
   "name": "python3"
  },
  "language_info": {
   "codemirror_mode": {
    "name": "ipython",
    "version": 3
   },
   "file_extension": ".py",
   "mimetype": "text/x-python",
   "name": "python",
   "nbconvert_exporter": "python",
   "pygments_lexer": "ipython3",
   "version": "3.6.4"
  }
 },
 "nbformat": 4,
 "nbformat_minor": 2
}
